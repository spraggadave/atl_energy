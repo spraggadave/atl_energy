{
 "cells": [
  {
   "cell_type": "code",
   "execution_count": null,
   "outputs": [],
   "source": [
    "\"\"\"\n",
    "This notebook provides tools for extracting, cleaning amd geocoding\n",
    "data that is publicly available on the Atlanta building efficiency website at\n",
    "https://atlantabuildingefficiency.com/benchmarking-data/\n",
    "\n",
    "The output is a CSV file wih latitude and longitudes for each building\n",
    "in the database shown on that site\n",
    "\n",
    "Note that the geocoding process can take several minutes and throw\n",
    "several exceptions, but it will complete correctly as long as you have \n",
    "a proper API key for the geocoding service you are using\n",
    "\n",
    "I welcome all help and suggestions for improvements.\n",
    "Please send any to david@buildpayer.com\n",
    "\n",
    "\"\"\""
   ],
   "metadata": {
    "collapsed": false,
    "pycharm": {
     "name": "#%% Atlanta Building Data geocoding tool\n"
    }
   }
  },
  {
   "cell_type": "code",
   "execution_count": 4,
   "metadata": {
    "collapsed": true,
    "pycharm": {
     "name": "#%% Import standard plotting and ML libraries\n",
     "is_executing": false
    }
   },
   "outputs": [],
   "source": [
    "import matplotlib.pyplot as plt \n",
    "import pandas as pd\n",
    "import numpy as np\n",
    "import os"
   ]
  },
  {
   "cell_type": "code",
   "execution_count": 2,
   "outputs": [
    {
     "name": "stderr",
     "text": [
      "PROJ: proj_create_from_database: Cannot find proj.db\n"
     ],
     "output_type": "stream"
    }
   ],
   "source": [
    "import geopandas as geo\n",
    "import fiona; fiona.supported_drivers\n",
    "import geopy\n",
    "import rtree"
   ],
   "metadata": {
    "collapsed": false,
    "pycharm": {
     "name": "#%% Import the geocoding libraries\n",
     "is_executing": false
    }
   }
  },
  {
   "cell_type": "code",
   "execution_count": null,
   "outputs": [],
   "source": [
    "#Enter the full location of the file in your local computer\n",
    "os_path=r'C:\\your_directory'\n",
    "\n",
    "#Location of the CSV file downloaded from the Atlanta Building Efficiency Website\n",
    "#https://atlantabuildingefficiency.com/benchmarking-data/\n",
    "building_info_path='building_information.csv'\n",
    "\n",
    "#Enter your Google API key for using their geocoding service\n",
    "#https://developers.google.com/maps/documentation/geocoding/get-api-key\n",
    "api_key='insert your key here'\n"
   ],
   "metadata": {
    "collapsed": false,
    "pycharm": {
     "name": "#%% Use this section to Set up variables unique to your environment\n"
    }
   }
  },
  {
   "cell_type": "code",
   "execution_count": 45,
   "outputs": [],
   "source": [
    "\"\"\"\n",
    "Note: Not all buildings that have efficiency data \n",
    "have an Atlanta Building ID (\"ABID\")\n",
    "Atlanta building data available from \n",
    "https://public.tableau.com/profile/office.of.resilience#!/vizhome/shared/42RQM3P4X\n",
    "This script requires download of the CSV from the site above\n",
    "and does not automatically retrieve data from URL above\n",
    "\"\"\"\n",
    "os.chdir(os_path)\n",
    "\n",
    "\n",
    "building_info = pd.read_csv(\n",
    "    building_info_path,\n",
    "    header=0,\n",
    "    dtype={'Year Built':'int'},\n",
    "    parse_dates=['Year Ending','Year'],\n",
    "    infer_datetime_format=True,\n",
    "    thousands=',' #removes thousands separator from bldg SF\n",
    ")"
   ],
   "metadata": {
    "collapsed": false,
    "pycharm": {
     "name": "#%% Import the data from the CSV downloaded from Atlanta efficiency site  \n",
     "is_executing": false
    }
   }
  },
  {
   "cell_type": "code",
   "execution_count": 46,
   "outputs": [
    {
     "name": "stdout",
     "text": [
      "Number of buildings with data is 1529\n"
     ],
     "output_type": "stream"
    }
   ],
   "source": [
    "#Find buildings where there is no Atlanta building ID \n",
    "building_info[building_info['Atlanta Building ID'].str.contains('Not Available')]\n",
    "print(\"Number of buildings with data is \"+str(len(building_info)))\n",
    "\n",
    "#SHorten name of building square footage column for easier coding\n",
    "building_info.rename(\n",
    "    columns={'Property GFA - Calculated (Buildings) (ft²)':'bldgSF'},\n",
    "    inplace=True\n",
    ")"
   ],
   "metadata": {
    "collapsed": false,
    "pycharm": {
     "name": "#%%\n",
     "is_executing": false
    }
   }
  },
  {
   "cell_type": "code",
   "execution_count": 99,
   "outputs": [
    {
     "name": "stderr",
     "text": [
      "C:\\Users\\david_000\\AppData\\Roaming\\Python\\Python37\\site-packages\\pandas\\core\\generic.py:6287: SettingWithCopyWarning: \nA value is trying to be set on a copy of a slice from a DataFrame\n\nSee the caveats in the documentation: http://pandas.pydata.org/pandas-docs/stable/user_guide/indexing.html#returning-a-view-versus-a-copy\n  self._update_inplace(new_data)\n"
     ],
     "output_type": "stream"
    }
   ],
   "source": [
    "#concatenate address city, postal code into a single item\n",
    "building_info=building_info.assign(address_long=building_info['Address']+' '+building_info['City']+', GA ')\n",
    "\n",
    "#Limit the data to 2018 metrics since the CSV has all years\n",
    "building_info_2018=building_info[building_info['Year']=='2018']\n",
    "\n",
    "#Make buildings with no Energy Star Scores zeros for that metric\n",
    "building_info_2018.fillna(\n",
    "    value={'ENERGY STAR Score': 0},\n",
    "    inplace=True,\n",
    "    downcast=True\n",
    ")"
   ],
   "metadata": {
    "collapsed": false,
    "pycharm": {
     "name": "#%% Extract building data for a 2018 only\n",
     "is_executing": false
    }
   }
  },
  {
   "cell_type": "code",
   "execution_count": 29,
   "outputs": [],
   "source": [
    "import geopandas as geo\n",
    "import fiona; fiona.supported_drivers\n",
    "import geopy\n",
    "import rtree"
   ],
   "metadata": {
    "collapsed": false,
    "pycharm": {
     "name": "#%% Import the Python libraries needed for Geocoding addresses\n",
     "is_executing": false
    }
   }
  },
  {
   "cell_type": "code",
   "execution_count": 98,
   "outputs": [
    {
     "name": "stderr",
     "text": [
      "RateLimiter caught an error, retrying (0/2 tries). Called with (*('120 Claire Drive Atlanta, GA ',), **{}).\nTraceback (most recent call last):\n  File \"C:\\Users\\david_000\\AppData\\Roaming\\Python\\Python37\\site-packages\\geopy\\geocoders\\base.py\", line 355, in _call_geocoder\n    page = requester(req, timeout=timeout, **kwargs)\n  File \"C:\\Users\\david_000\\Anaconda3\\lib\\urllib\\request.py\", line 525, in open\n    response = self._open(req, data)\n  File \"C:\\Users\\david_000\\Anaconda3\\lib\\urllib\\request.py\", line 543, in _open\n    '_open', req)\n  File \"C:\\Users\\david_000\\Anaconda3\\lib\\urllib\\request.py\", line 503, in _call_chain\n    result = func(*args)\n  File \"C:\\Users\\david_000\\Anaconda3\\lib\\urllib\\request.py\", line 1360, in https_open\n    context=self._context, check_hostname=self._check_hostname)\n  File \"C:\\Users\\david_000\\Anaconda3\\lib\\urllib\\request.py\", line 1320, in do_open\n    r = h.getresponse()\n  File \"C:\\Users\\david_000\\Anaconda3\\lib\\http\\client.py\", line 1344, in getresponse\n    response.begin()\n  File \"C:\\Users\\david_000\\Anaconda3\\lib\\http\\client.py\", line 306, in begin\n    version, status, reason = self._read_status()\n  File \"C:\\Users\\david_000\\Anaconda3\\lib\\http\\client.py\", line 267, in _read_status\n    line = str(self.fp.readline(_MAXLINE + 1), \"iso-8859-1\")\n  File \"C:\\Users\\david_000\\Anaconda3\\lib\\socket.py\", line 589, in readinto\n    return self._sock.recv_into(b)\n  File \"C:\\Users\\david_000\\Anaconda3\\lib\\ssl.py\", line 1071, in recv_into\n    return self.read(nbytes, buffer)\n  File \"C:\\Users\\david_000\\Anaconda3\\lib\\ssl.py\", line 929, in read\n    return self._sslobj.read(len, buffer)\nsocket.timeout: The read operation timed out\n\nDuring handling of the above exception, another exception occurred:\n\nTraceback (most recent call last):\n  File \"C:\\Users\\david_000\\AppData\\Roaming\\Python\\Python37\\site-packages\\geopy\\extra\\rate_limiter.py\", line 126, in __call__\n    return self.func(*args, **kwargs)\n  File \"C:\\Users\\david_000\\AppData\\Roaming\\Python\\Python37\\site-packages\\geopy\\geocoders\\googlev3.py\", line 273, in geocode\n    self._call_geocoder(url, timeout=timeout), exactly_one\n  File \"C:\\Users\\david_000\\AppData\\Roaming\\Python\\Python37\\site-packages\\geopy\\geocoders\\base.py\", line 382, in _call_geocoder\n    raise GeocoderTimedOut('Service timed out')\ngeopy.exc.GeocoderTimedOut: Service timed out\n",
      "RateLimiter caught an error, retrying (0/2 tries). Called with (*('180 Southside Pkwy Atlanta, GA ',), **{}).\nTraceback (most recent call last):\n  File \"C:\\Users\\david_000\\AppData\\Roaming\\Python\\Python37\\site-packages\\geopy\\geocoders\\base.py\", line 355, in _call_geocoder\n    page = requester(req, timeout=timeout, **kwargs)\n  File \"C:\\Users\\david_000\\Anaconda3\\lib\\urllib\\request.py\", line 525, in open\n    response = self._open(req, data)\n  File \"C:\\Users\\david_000\\Anaconda3\\lib\\urllib\\request.py\", line 543, in _open\n    '_open', req)\n  File \"C:\\Users\\david_000\\Anaconda3\\lib\\urllib\\request.py\", line 503, in _call_chain\n    result = func(*args)\n  File \"C:\\Users\\david_000\\Anaconda3\\lib\\urllib\\request.py\", line 1360, in https_open\n    context=self._context, check_hostname=self._check_hostname)\n  File \"C:\\Users\\david_000\\Anaconda3\\lib\\urllib\\request.py\", line 1320, in do_open\n    r = h.getresponse()\n  File \"C:\\Users\\david_000\\Anaconda3\\lib\\http\\client.py\", line 1344, in getresponse\n    response.begin()\n  File \"C:\\Users\\david_000\\Anaconda3\\lib\\http\\client.py\", line 306, in begin\n    version, status, reason = self._read_status()\n  File \"C:\\Users\\david_000\\Anaconda3\\lib\\http\\client.py\", line 267, in _read_status\n    line = str(self.fp.readline(_MAXLINE + 1), \"iso-8859-1\")\n  File \"C:\\Users\\david_000\\Anaconda3\\lib\\socket.py\", line 589, in readinto\n    return self._sock.recv_into(b)\n  File \"C:\\Users\\david_000\\Anaconda3\\lib\\ssl.py\", line 1071, in recv_into\n    return self.read(nbytes, buffer)\n  File \"C:\\Users\\david_000\\Anaconda3\\lib\\ssl.py\", line 929, in read\n    return self._sslobj.read(len, buffer)\nsocket.timeout: The read operation timed out\n\nDuring handling of the above exception, another exception occurred:\n\nTraceback (most recent call last):\n  File \"C:\\Users\\david_000\\AppData\\Roaming\\Python\\Python37\\site-packages\\geopy\\extra\\rate_limiter.py\", line 126, in __call__\n    return self.func(*args, **kwargs)\n  File \"C:\\Users\\david_000\\AppData\\Roaming\\Python\\Python37\\site-packages\\geopy\\geocoders\\googlev3.py\", line 273, in geocode\n    self._call_geocoder(url, timeout=timeout), exactly_one\n  File \"C:\\Users\\david_000\\AppData\\Roaming\\Python\\Python37\\site-packages\\geopy\\geocoders\\base.py\", line 382, in _call_geocoder\n    raise GeocoderTimedOut('Service timed out')\ngeopy.exc.GeocoderTimedOut: Service timed out\n",
      "C:\\Users\\david_000\\Anaconda3\\lib\\site-packages\\ipykernel_launcher.py:11: SettingWithCopyWarning: \nA value is trying to be set on a copy of a slice from a DataFrame.\nTry using .loc[row_indexer,col_indexer] = value instead\n\nSee the caveats in the documentation: http://pandas.pydata.org/pandas-docs/stable/user_guide/indexing.html#returning-a-view-versus-a-copy\n  # This is added back by InteractiveShellApp.init_path()\nC:\\Users\\david_000\\Anaconda3\\lib\\site-packages\\ipykernel_launcher.py:13: SettingWithCopyWarning: \nA value is trying to be set on a copy of a slice from a DataFrame.\nTry using .loc[row_indexer,col_indexer] = value instead\n\nSee the caveats in the documentation: http://pandas.pydata.org/pandas-docs/stable/user_guide/indexing.html#returning-a-view-versus-a-copy\n  del sys.path[0]\n"
     ],
     "output_type": "stream"
    },
    {
     "data": {
      "text/plain": "                        Address Atlanta Building ID Blank   \\\n26    2244 Metropolitan Parkway              537284          \n27     1328 Peachtree Street NE              422029          \n28        1500 Northside Dr. NW              558239          \n29          267 Marietta Street              421528          \n30            3030 Peachtree Rd             6354628          \n...                         ...                 ...    ...   \n1509           225 Baker Street              731349          \n1512     1050 Techwood Drive NW              512401          \n1514             56 Marietta St              375575          \n1521        1 CNN Center Plz NW              442848          \n1526           2440 Bolton Road              969610          \n\n      Views by Parameter     City  ENERGY STAR Score  Number of Buildings  \\\n26                   NaN  Atlanta                0.0                  3.0   \n27                   NaN  Atlanta                0.0                  1.0   \n28                   NaN  Atlanta                0.0                  2.0   \n29                   NaN  Atlanta                0.0                  1.0   \n30                   NaN  Atlanta                0.0                  1.0   \n...                  ...      ...                ...                  ...   \n1509                 NaN  Atlanta                0.0                  1.0   \n1512                 NaN  Atlanta                0.0                 15.0   \n1514                 1.0  Atlanta                1.0                  1.0   \n1521                 NaN  Atlanta                0.0                  1.0   \n1526                 1.0  Atlanta                1.0                  1.0   \n\n      Number of Records  Postal Code             Grouped Property Types  ...  \\\n26                    1      30315.0                   Other, Mixed Use  ...   \n27                    1      30309.0                   Other, Mixed Use  ...   \n28                    1      30318.0              Retail/ Entertainment  ...   \n29                    1      30313.0                            Lodging  ...   \n30                    1      30305.0              Retail/ Entertainment  ...   \n...                 ...          ...                                ...  ...   \n1509                  1      30313.0  Museums, Performing Arts and Zoos  ...   \n1512                  1      30318.0                   Other, Mixed Use  ...   \n1514                  1      30303.0                             Office  ...   \n1521                  1      30303.0                   Other, Mixed Use  ...   \n1526                  1      30138.0                          Municipal  ...   \n\n     Total GHG Emissions (Metric Tons CO2e) (group)  \\\n26                                  No Values Given   \n27                                  No Values Given   \n28                                  No Values Given   \n29                                  No Values Given   \n30                                  No Values Given   \n...                                             ...   \n1509                             29259.400000000001   \n1512                             31034.299999999999   \n1514                             31748.299999999999   \n1521                                        42261.0   \n1526                             49393.400000000001   \n\n      Total GHG Emissions (Metric Tons CO2e)  Water Use (kGal)  \\\n26                                       NaN               NaN   \n27                                       NaN               NaN   \n28                                       NaN               NaN   \n29                                       NaN               NaN   \n30                                       NaN               NaN   \n...                                      ...               ...   \n1509                                 29259.4           52120.1   \n1512                                 31034.3           45606.7   \n1514                                 31748.3           12678.2   \n1521                                 42261.0           69747.1   \n1526                                 49393.4               NaN   \n\n     Water Use Intensity (gal/ft²) Year Built  Year Ending       Year  \\\n26                             NaN       1975   2017-12-31 2018-01-01   \n27                             NaN       1965   2017-12-31 2018-01-01   \n28                             NaN       1950   2017-12-31 2018-01-01   \n29                             NaN       1999   2017-12-31 2018-01-01   \n30                             NaN       2014   2017-12-31 2018-01-01   \n...                            ...        ...          ...        ...   \n1509                         86.29       2005   2017-12-31 2018-01-01   \n1512                         34.86       2001   2017-12-31 2018-01-01   \n1514                         77.69       1917   2017-12-31 2018-01-01   \n1521                         39.08       1976   2017-12-31 2018-01-01   \n1526                           NaN       1972   2017-12-31 2018-01-01   \n\n                                address_long  \\\n26    2244 Metropolitan Parkway Atlanta, GA    \n27     1328 Peachtree Street NE Atlanta, GA    \n28        1500 Northside Dr. NW Atlanta, GA    \n29          267 Marietta Street Atlanta, GA    \n30            3030 Peachtree Rd Atlanta, GA    \n...                                      ...   \n1509           225 Baker Street Atlanta, GA    \n1512     1050 Techwood Drive NW Atlanta, GA    \n1514             56 Marietta St Atlanta, GA    \n1521        1 CNN Center Plz NW Atlanta, GA    \n1526           2440 Bolton Road Atlanta, GA    \n\n                                               location  \\\n26    (2244 Metropolitan Pkwy SW, Atlanta, GA 30315,...   \n27    (1328 Peachtree St NE, Atlanta, GA 30309, USA,...   \n28    (1500 Northside Dr NW, Atlanta, GA 30318, USA,...   \n29    (267 Marietta St NW, Atlanta, GA 30313, USA, (...   \n30    (3030 Peachtree Rd, Atlanta, GA 30305, USA, (3...   \n...                                                 ...   \n1509  (225 Baker St NW, Atlanta, GA 30313, USA, (33....   \n1512  (1050 Techwood Dr NW, Atlanta, GA 30318, USA, ...   \n1514  (56 Marietta St NW, Atlanta, GA 30303, USA, (3...   \n1521  (190 Marietta St NW, Atlanta, GA 30303, USA, (...   \n1526  (2440 Bolton Rd NW, Atlanta, GA 30318, USA, (3...   \n\n                                      point  \n26           (33.6928905, -84.4066306, 0.0)  \n27           (33.7906847, -84.3856753, 0.0)  \n28            (33.7958762, -84.408813, 0.0)  \n29    (33.7607765, -84.39452949999999, 0.0)  \n30           (33.8380739, -84.3812698, 0.0)  \n...                                     ...  \n1509         (33.7638778, -84.3957609, 0.0)  \n1512         (33.7829628, -84.3930896, 0.0)  \n1514         (33.7554591, -84.3914507, 0.0)  \n1521  (33.7582642, -84.39500960000001, 0.0)  \n1526  (33.82180520000001, -84.4548641, 0.0)  \n\n[419 rows x 29 columns]",
      "text/html": "<div>\n<style scoped>\n    .dataframe tbody tr th:only-of-type {\n        vertical-align: middle;\n    }\n\n    .dataframe tbody tr th {\n        vertical-align: top;\n    }\n\n    .dataframe thead th {\n        text-align: right;\n    }\n</style>\n<table border=\"1\" class=\"dataframe\">\n  <thead>\n    <tr style=\"text-align: right;\">\n      <th></th>\n      <th>Address</th>\n      <th>Atlanta Building ID</th>\n      <th>Blank</th>\n      <th>Views by Parameter</th>\n      <th>City</th>\n      <th>ENERGY STAR Score</th>\n      <th>Number of Buildings</th>\n      <th>Number of Records</th>\n      <th>Postal Code</th>\n      <th>Grouped Property Types</th>\n      <th>...</th>\n      <th>Total GHG Emissions (Metric Tons CO2e) (group)</th>\n      <th>Total GHG Emissions (Metric Tons CO2e)</th>\n      <th>Water Use (kGal)</th>\n      <th>Water Use Intensity (gal/ft²)</th>\n      <th>Year Built</th>\n      <th>Year Ending</th>\n      <th>Year</th>\n      <th>address_long</th>\n      <th>location</th>\n      <th>point</th>\n    </tr>\n  </thead>\n  <tbody>\n    <tr>\n      <td>26</td>\n      <td>2244 Metropolitan Parkway</td>\n      <td>537284</td>\n      <td></td>\n      <td>NaN</td>\n      <td>Atlanta</td>\n      <td>0.0</td>\n      <td>3.0</td>\n      <td>1</td>\n      <td>30315.0</td>\n      <td>Other, Mixed Use</td>\n      <td>...</td>\n      <td>No Values Given</td>\n      <td>NaN</td>\n      <td>NaN</td>\n      <td>NaN</td>\n      <td>1975</td>\n      <td>2017-12-31</td>\n      <td>2018-01-01</td>\n      <td>2244 Metropolitan Parkway Atlanta, GA</td>\n      <td>(2244 Metropolitan Pkwy SW, Atlanta, GA 30315,...</td>\n      <td>(33.6928905, -84.4066306, 0.0)</td>\n    </tr>\n    <tr>\n      <td>27</td>\n      <td>1328 Peachtree Street NE</td>\n      <td>422029</td>\n      <td></td>\n      <td>NaN</td>\n      <td>Atlanta</td>\n      <td>0.0</td>\n      <td>1.0</td>\n      <td>1</td>\n      <td>30309.0</td>\n      <td>Other, Mixed Use</td>\n      <td>...</td>\n      <td>No Values Given</td>\n      <td>NaN</td>\n      <td>NaN</td>\n      <td>NaN</td>\n      <td>1965</td>\n      <td>2017-12-31</td>\n      <td>2018-01-01</td>\n      <td>1328 Peachtree Street NE Atlanta, GA</td>\n      <td>(1328 Peachtree St NE, Atlanta, GA 30309, USA,...</td>\n      <td>(33.7906847, -84.3856753, 0.0)</td>\n    </tr>\n    <tr>\n      <td>28</td>\n      <td>1500 Northside Dr. NW</td>\n      <td>558239</td>\n      <td></td>\n      <td>NaN</td>\n      <td>Atlanta</td>\n      <td>0.0</td>\n      <td>2.0</td>\n      <td>1</td>\n      <td>30318.0</td>\n      <td>Retail/ Entertainment</td>\n      <td>...</td>\n      <td>No Values Given</td>\n      <td>NaN</td>\n      <td>NaN</td>\n      <td>NaN</td>\n      <td>1950</td>\n      <td>2017-12-31</td>\n      <td>2018-01-01</td>\n      <td>1500 Northside Dr. NW Atlanta, GA</td>\n      <td>(1500 Northside Dr NW, Atlanta, GA 30318, USA,...</td>\n      <td>(33.7958762, -84.408813, 0.0)</td>\n    </tr>\n    <tr>\n      <td>29</td>\n      <td>267 Marietta Street</td>\n      <td>421528</td>\n      <td></td>\n      <td>NaN</td>\n      <td>Atlanta</td>\n      <td>0.0</td>\n      <td>1.0</td>\n      <td>1</td>\n      <td>30313.0</td>\n      <td>Lodging</td>\n      <td>...</td>\n      <td>No Values Given</td>\n      <td>NaN</td>\n      <td>NaN</td>\n      <td>NaN</td>\n      <td>1999</td>\n      <td>2017-12-31</td>\n      <td>2018-01-01</td>\n      <td>267 Marietta Street Atlanta, GA</td>\n      <td>(267 Marietta St NW, Atlanta, GA 30313, USA, (...</td>\n      <td>(33.7607765, -84.39452949999999, 0.0)</td>\n    </tr>\n    <tr>\n      <td>30</td>\n      <td>3030 Peachtree Rd</td>\n      <td>6354628</td>\n      <td></td>\n      <td>NaN</td>\n      <td>Atlanta</td>\n      <td>0.0</td>\n      <td>1.0</td>\n      <td>1</td>\n      <td>30305.0</td>\n      <td>Retail/ Entertainment</td>\n      <td>...</td>\n      <td>No Values Given</td>\n      <td>NaN</td>\n      <td>NaN</td>\n      <td>NaN</td>\n      <td>2014</td>\n      <td>2017-12-31</td>\n      <td>2018-01-01</td>\n      <td>3030 Peachtree Rd Atlanta, GA</td>\n      <td>(3030 Peachtree Rd, Atlanta, GA 30305, USA, (3...</td>\n      <td>(33.8380739, -84.3812698, 0.0)</td>\n    </tr>\n    <tr>\n      <td>...</td>\n      <td>...</td>\n      <td>...</td>\n      <td>...</td>\n      <td>...</td>\n      <td>...</td>\n      <td>...</td>\n      <td>...</td>\n      <td>...</td>\n      <td>...</td>\n      <td>...</td>\n      <td>...</td>\n      <td>...</td>\n      <td>...</td>\n      <td>...</td>\n      <td>...</td>\n      <td>...</td>\n      <td>...</td>\n      <td>...</td>\n      <td>...</td>\n      <td>...</td>\n      <td>...</td>\n    </tr>\n    <tr>\n      <td>1509</td>\n      <td>225 Baker Street</td>\n      <td>731349</td>\n      <td></td>\n      <td>NaN</td>\n      <td>Atlanta</td>\n      <td>0.0</td>\n      <td>1.0</td>\n      <td>1</td>\n      <td>30313.0</td>\n      <td>Museums, Performing Arts and Zoos</td>\n      <td>...</td>\n      <td>29259.400000000001</td>\n      <td>29259.4</td>\n      <td>52120.1</td>\n      <td>86.29</td>\n      <td>2005</td>\n      <td>2017-12-31</td>\n      <td>2018-01-01</td>\n      <td>225 Baker Street Atlanta, GA</td>\n      <td>(225 Baker St NW, Atlanta, GA 30313, USA, (33....</td>\n      <td>(33.7638778, -84.3957609, 0.0)</td>\n    </tr>\n    <tr>\n      <td>1512</td>\n      <td>1050 Techwood Drive NW</td>\n      <td>512401</td>\n      <td></td>\n      <td>NaN</td>\n      <td>Atlanta</td>\n      <td>0.0</td>\n      <td>15.0</td>\n      <td>1</td>\n      <td>30318.0</td>\n      <td>Other, Mixed Use</td>\n      <td>...</td>\n      <td>31034.299999999999</td>\n      <td>31034.3</td>\n      <td>45606.7</td>\n      <td>34.86</td>\n      <td>2001</td>\n      <td>2017-12-31</td>\n      <td>2018-01-01</td>\n      <td>1050 Techwood Drive NW Atlanta, GA</td>\n      <td>(1050 Techwood Dr NW, Atlanta, GA 30318, USA, ...</td>\n      <td>(33.7829628, -84.3930896, 0.0)</td>\n    </tr>\n    <tr>\n      <td>1514</td>\n      <td>56 Marietta St</td>\n      <td>375575</td>\n      <td></td>\n      <td>1.0</td>\n      <td>Atlanta</td>\n      <td>1.0</td>\n      <td>1.0</td>\n      <td>1</td>\n      <td>30303.0</td>\n      <td>Office</td>\n      <td>...</td>\n      <td>31748.299999999999</td>\n      <td>31748.3</td>\n      <td>12678.2</td>\n      <td>77.69</td>\n      <td>1917</td>\n      <td>2017-12-31</td>\n      <td>2018-01-01</td>\n      <td>56 Marietta St Atlanta, GA</td>\n      <td>(56 Marietta St NW, Atlanta, GA 30303, USA, (3...</td>\n      <td>(33.7554591, -84.3914507, 0.0)</td>\n    </tr>\n    <tr>\n      <td>1521</td>\n      <td>1 CNN Center Plz NW</td>\n      <td>442848</td>\n      <td></td>\n      <td>NaN</td>\n      <td>Atlanta</td>\n      <td>0.0</td>\n      <td>1.0</td>\n      <td>1</td>\n      <td>30303.0</td>\n      <td>Other, Mixed Use</td>\n      <td>...</td>\n      <td>42261.0</td>\n      <td>42261.0</td>\n      <td>69747.1</td>\n      <td>39.08</td>\n      <td>1976</td>\n      <td>2017-12-31</td>\n      <td>2018-01-01</td>\n      <td>1 CNN Center Plz NW Atlanta, GA</td>\n      <td>(190 Marietta St NW, Atlanta, GA 30303, USA, (...</td>\n      <td>(33.7582642, -84.39500960000001, 0.0)</td>\n    </tr>\n    <tr>\n      <td>1526</td>\n      <td>2440 Bolton Road</td>\n      <td>969610</td>\n      <td></td>\n      <td>1.0</td>\n      <td>Atlanta</td>\n      <td>1.0</td>\n      <td>1.0</td>\n      <td>1</td>\n      <td>30138.0</td>\n      <td>Municipal</td>\n      <td>...</td>\n      <td>49393.400000000001</td>\n      <td>49393.4</td>\n      <td>NaN</td>\n      <td>NaN</td>\n      <td>1972</td>\n      <td>2017-12-31</td>\n      <td>2018-01-01</td>\n      <td>2440 Bolton Road Atlanta, GA</td>\n      <td>(2440 Bolton Rd NW, Atlanta, GA 30318, USA, (3...</td>\n      <td>(33.82180520000001, -84.4548641, 0.0)</td>\n    </tr>\n  </tbody>\n</table>\n<p>419 rows × 29 columns</p>\n</div>"
     },
     "metadata": {},
     "output_type": "execute_result",
     "execution_count": 98
    }
   ],
   "source": [
    "\"\"\"\n",
    "This section let you use Geopandas Geolocation\n",
    "tools with a Google API key\n",
    "It pulls with a timeout using Google geocode API key\n",
    "#source: https://geopy.readthedocs.io/en/latest/#usage-with-pandas\n",
    "\"\"\"\n",
    "df=building_info_2018\n",
    "api_key_google=api_key\n",
    "\n",
    "from geopy.geocoders import GoogleV3\n",
    "geolocator = GoogleV3(api_key=api_key_google)\n",
    "\n",
    "from geopy.extra.rate_limiter import RateLimiter\n",
    "geocode = RateLimiter(geolocator.geocode, min_delay_seconds=1)\n",
    "df['location'] = df['address_long'].apply(geocode)\n",
    "\n",
    "df['point'] = df['location'].apply(lambda loc: tuple(loc.point) if loc else None)\n",
    "\n",
    "#Create columns for latitude and longitude\n",
    "df['latitude'] = df['point'].apply(lambda x: x[0])\n",
    "df['longitude'] = df['point'].apply(lambda x: x[1])\n",
    "\n",
    "#Export geocoded addressess to a CSV file for use in mapping applications\n",
    "df.to_csv(path_or_buf='./2018_geocode.csv')"
   ],
   "metadata": {
    "collapsed": false,
    "pycharm": {
     "name": "#%% Geocade the locations of the buildings\n",
     "is_executing": false
    }
   }
  },
  {
   "cell_type": "code",
   "execution_count": null,
   "outputs": [],
   "source": [
    "\"\"\"\n",
    "A list of buildings subject to the ordinance is available as an excel file at the following link:\n",
    "https://web.atlantaga.gov/coabuildings/#/\n",
    "\n",
    "This file needs cleaning up as many numeric values are coded as a string\n",
    "If that is the case, use the code snippets below to clean up those values\n",
    "\n",
    "#remove linebreaks from SF columns\n",
    "building_info.replace('\\n',' ', regex=True, inplace=True)\n",
    "\n",
    "#remove whitespace around strings in SF column\n",
    "\n",
    "building_info.replace('\\n',' ', regex=True, inplace=True)\n",
    "#building_info['bldgSF']=building_info['bldgSF'].str.strip()\n",
    "\n",
    "#find non-numeric string values in SF\n",
    "non_numeric=building_info['bldgSF'].str.isnumeric()\n",
    "\n",
    "#replace non-numeric sq. ft values with NaN values\n",
    "#this makes it easier to remove them\n",
    "building_info['bldgSF'].where(non_numeric,inplace=True)\n",
    "\n",
    "#convert sq ft. from strings to floating values\n",
    "building_info['bldgSF']=building_info['bldgSF'].astype(float)\n",
    "building_info['bldgSF'].dtype\n",
    "\"\"\""
   ],
   "metadata": {
    "collapsed": false,
    "pycharm": {
     "name": "#%%  Optional code for cleaning up Atlanta building database data\n"
    }
   }
  }
 ],
 "metadata": {
  "language_info": {
   "codemirror_mode": {
    "name": "ipython",
    "version": 2
   },
   "file_extension": ".py",
   "mimetype": "text/x-python",
   "name": "python",
   "nbconvert_exporter": "python",
   "pygments_lexer": "ipython2",
   "version": "2.7.6"
  },
  "kernelspec": {
   "name": "python3",
   "language": "python",
   "display_name": "Python 3"
  },
  "pycharm": {
   "stem_cell": {
    "cell_type": "raw",
    "source": [],
    "metadata": {
     "collapsed": false
    }
   }
  }
 },
 "nbformat": 4,
 "nbformat_minor": 0
}